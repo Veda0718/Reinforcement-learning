{
  "cells": [
    {
      "cell_type": "markdown",
      "metadata": {
        "id": "2D3NL_e4crQv"
      },
      "source": [
        "# Bonus Unit 1: Let's train Huggy the Dog 🐶 to fetch a stick"
      ]
    },
    {
      "cell_type": "markdown",
      "metadata": {
        "id": "FMYrDriDujzX"
      },
      "source": [
        "<img src=\"https://huggingface.co/datasets/huggingface-deep-rl-course/course-images/resolve/main/en/unit2/thumbnail.png\" alt=\"Bonus Unit 1Thumbnail\">\n",
        "\n",
        "In this notebook, we'll reinforce what we learned in the first Unit by **teaching Huggy the Dog to fetch the stick and then play with it directly in your browser**\n",
        "\n",
        "⬇️ Here is an example of what **you will achieve at the end of the unit.** ⬇️ (launch ▶ to see)"
      ]
    },
    {
      "cell_type": "code",
      "execution_count": 1,
      "metadata": {
        "id": "PnVhs1yYNyUF",
        "colab": {
          "base_uri": "https://localhost:8080/",
          "height": 741
        },
        "outputId": "05dc6dbd-c664-4766-8d9a-85ff884910f8"
      },
      "outputs": [
        {
          "output_type": "display_data",
          "data": {
            "text/plain": [
              "<IPython.core.display.HTML object>"
            ],
            "text/html": [
              "<video controls autoplay><source src=\"https://huggingface.co/datasets/huggingface-deep-rl-course/course-images/resolve/main/en/notebooks/unit-bonus1/huggy.mp4\" type=\"video/mp4\"></video>\n"
            ]
          },
          "metadata": {}
        }
      ],
      "source": [
        "%%html\n",
        "<video controls autoplay><source src=\"https://huggingface.co/datasets/huggingface-deep-rl-course/course-images/resolve/main/en/notebooks/unit-bonus1/huggy.mp4\" type=\"video/mp4\"></video>"
      ]
    },
    {
      "cell_type": "markdown",
      "metadata": {
        "id": "x7oR6R-ZIbeS"
      },
      "source": [
        "### The environment 🎮\n",
        "\n",
        "- Huggy the Dog, an environment created by [Thomas Simonini](https://twitter.com/ThomasSimonini) based on [Puppo The Corgi](https://blog.unity.com/technology/puppo-the-corgi-cuteness-overload-with-the-unity-ml-agents-toolkit)\n",
        "\n",
        "### The library used 📚\n",
        "\n",
        "- [MLAgents](https://github.com/Unity-Technologies/ml-agents)"
      ]
    },
    {
      "cell_type": "markdown",
      "metadata": {
        "id": "60yACvZwO0Cy"
      },
      "source": [
        "We're constantly trying to improve our tutorials, so **if you find some issues in this notebook**, please [open an issue on the Github Repo](https://github.com/huggingface/deep-rl-class/issues)."
      ]
    },
    {
      "cell_type": "markdown",
      "metadata": {
        "id": "Oks-ETYdO2Dc"
      },
      "source": [
        "## Objectives of this notebook 🏆\n",
        "\n",
        "At the end of the notebook, you will:\n",
        "\n",
        "- Understand **the state space, action space and reward function used to train Huggy**.\n",
        "- **Train your own Huggy** to fetch the stick.\n",
        "- Be able to play **with your trained Huggy directly in your browser**.\n",
        "\n",
        "\n"
      ]
    },
    {
      "cell_type": "markdown",
      "metadata": {
        "id": "mUlVrqnBv2o1"
      },
      "source": [
        "## This notebook is from Deep Reinforcement Learning Course\n",
        "<img src=\"https://huggingface.co/datasets/huggingface-deep-rl-course/course-images/resolve/main/en/notebooks/deep-rl-course-illustration.jpg\" alt=\"Deep RL Course illustration\"/>"
      ]
    },
    {
      "cell_type": "markdown",
      "metadata": {
        "id": "pAMjaQpHwB_s"
      },
      "source": [
        "In this free course, you will:\n",
        "\n",
        "- 📖 Study Deep Reinforcement Learning in **theory and practice**.\n",
        "- 🧑‍💻 Learn to **use famous Deep RL libraries** such as Stable Baselines3, RL Baselines3 Zoo, CleanRL and Sample Factory 2.0.\n",
        "- 🤖 Train **agents in unique environments**\n",
        "\n",
        "And more check 📚 the syllabus 👉 https://simoninithomas.github.io/deep-rl-course\n",
        "\n",
        "Don’t forget to **<a href=\"http://eepurl.com/ic5ZUD\">sign up to the course</a>** (we are collecting your email to be able to **send you the links when each Unit is published and give you information about the challenges and updates).**\n",
        "\n",
        "\n",
        "The best way to keep in touch is to join our discord server to exchange with the community and with us 👉🏻 https://discord.gg/ydHrjt3WP5"
      ]
    },
    {
      "cell_type": "markdown",
      "metadata": {
        "id": "6r7Hl0uywFSO"
      },
      "source": [
        "## Prerequisites 🏗️\n",
        "\n",
        "Before diving into the notebook, you need to:\n",
        "\n",
        "🔲 📚 **Develop an understanding of the foundations of Reinforcement learning** (MC, TD, Rewards hypothesis...) by doing Unit 1\n",
        "\n",
        "🔲 📚 **Read the introduction to Huggy** by doing Bonus Unit 1"
      ]
    },
    {
      "cell_type": "markdown",
      "metadata": {
        "id": "DssdIjk_8vZE"
      },
      "source": [
        "## Set the GPU 💪\n",
        "- To **accelerate the agent's training, we'll use a GPU**. To do that, go to `Runtime > Change Runtime type`\n",
        "\n",
        "<img src=\"https://huggingface.co/datasets/huggingface-deep-rl-course/course-images/resolve/main/en/notebooks/gpu-step1.jpg\" alt=\"GPU Step 1\">"
      ]
    },
    {
      "cell_type": "markdown",
      "metadata": {
        "id": "sTfCXHy68xBv"
      },
      "source": [
        "- `Hardware Accelerator > GPU`\n",
        "\n",
        "<img src=\"https://huggingface.co/datasets/huggingface-deep-rl-course/course-images/resolve/main/en/notebooks/gpu-step2.jpg\" alt=\"GPU Step 2\">"
      ]
    },
    {
      "cell_type": "markdown",
      "metadata": {
        "id": "an3ByrXYQ4iK"
      },
      "source": [
        "## Clone the repository 🔽\n",
        "\n",
        "- We need to clone the repository, that contains **ML-Agents.**"
      ]
    },
    {
      "cell_type": "code",
      "execution_count": 2,
      "metadata": {
        "id": "6WNoL04M7rTa"
      },
      "outputs": [],
      "source": [
        "%%capture\n",
        "# Clone the repository (can take 3min)\n",
        "!git clone --depth 1 https://github.com/Unity-Technologies/ml-agents"
      ]
    },
    {
      "cell_type": "markdown",
      "metadata": {
        "id": "n7k9_9SVmeK3"
      },
      "source": [
        "## Setup the Virtual Environment 🔽\n",
        "- In order for the **ML-Agents** to run successfully in Colab,  Colab's Python version must meet the library's Python requirements.\n",
        "\n",
        "- We can check for the supported Python version under the `python_requires` parameter in the `setup.py` files. These files are required to set up the **ML-Agents** library for use and can be found in the following locations:\n",
        "  - `/content/ml-agents/ml-agents/setup.py`\n",
        "  - `/content/ml-agents/ml-agents-envs/setup.py`\n",
        "\n",
        "- Colab's Current Python version(can be checked using `!python --version`) doesn't match the library's `python_requires` parameter, as a result installation may silently fail and lead to errors like these, when executing the same commands later:\n",
        "  - `/bin/bash: line 1: mlagents-learn: command not found`\n",
        "  - `/bin/bash: line 1: mlagents-push-to-hf: command not found`\n",
        "\n",
        "- To resolve this, we'll create a virtual environment with a Python version compatible with the **ML-Agents** library.\n",
        "\n",
        "`Note:` *For future compatibility, always check the `python_requires` parameter in the installation files and set your virtual environment to the maximum supported Python version in the given below script if the Colab's Python version is not compatible*"
      ]
    },
    {
      "cell_type": "code",
      "execution_count": 3,
      "metadata": {
        "id": "qr0Wy36HmeK3",
        "colab": {
          "base_uri": "https://localhost:8080/"
        },
        "outputId": "f359a160-665e-42ca-dfe5-fecaad51c994"
      },
      "outputs": [
        {
          "output_type": "stream",
          "name": "stdout",
          "text": [
            "Python 3.11.11\n"
          ]
        }
      ],
      "source": [
        "# Colab's Current Python Version (Incompatible with ML-Agents)\n",
        "!python --version"
      ]
    },
    {
      "cell_type": "code",
      "execution_count": 4,
      "metadata": {
        "id": "N0WuM7XSmeK3",
        "colab": {
          "base_uri": "https://localhost:8080/"
        },
        "outputId": "44c44ce4-1973-4353-d174-966b2eb6c0b0"
      },
      "outputs": [
        {
          "output_type": "stream",
          "name": "stdout",
          "text": [
            "Collecting virtualenv\n",
            "  Downloading virtualenv-20.29.1-py3-none-any.whl.metadata (4.5 kB)\n",
            "Collecting distlib<1,>=0.3.7 (from virtualenv)\n",
            "  Downloading distlib-0.3.9-py2.py3-none-any.whl.metadata (5.2 kB)\n",
            "Requirement already satisfied: filelock<4,>=3.12.2 in /usr/local/lib/python3.11/dist-packages (from virtualenv) (3.17.0)\n",
            "Requirement already satisfied: platformdirs<5,>=3.9.1 in /usr/local/lib/python3.11/dist-packages (from virtualenv) (4.3.6)\n",
            "Downloading virtualenv-20.29.1-py3-none-any.whl (4.3 MB)\n",
            "\u001b[?25l   \u001b[90m━━━━━━━━━━━━━━━━━━━━━━━━━━━━━━━━━━━━━━━━\u001b[0m \u001b[32m0.0/4.3 MB\u001b[0m \u001b[31m?\u001b[0m eta \u001b[36m-:--:--\u001b[0m\r\u001b[2K   \u001b[91m━\u001b[0m\u001b[90m╺\u001b[0m\u001b[90m━━━━━━━━━━━━━━━━━━━━━━━━━━━━━━━━━━━━━━\u001b[0m \u001b[32m0.1/4.3 MB\u001b[0m \u001b[31m3.8 MB/s\u001b[0m eta \u001b[36m0:00:02\u001b[0m\r\u001b[2K   \u001b[91m━━━━━━━━━━\u001b[0m\u001b[91m╸\u001b[0m\u001b[90m━━━━━━━━━━━━━━━━━━━━━━━━━━━━━\u001b[0m \u001b[32m1.2/4.3 MB\u001b[0m \u001b[31m17.2 MB/s\u001b[0m eta \u001b[36m0:00:01\u001b[0m\r\u001b[2K   \u001b[91m━━━━━━━━━━━━━━━━━━━━━━━━━━━━━━━━━━━━━━━\u001b[0m\u001b[91m╸\u001b[0m \u001b[32m4.3/4.3 MB\u001b[0m \u001b[31m47.0 MB/s\u001b[0m eta \u001b[36m0:00:01\u001b[0m\r\u001b[2K   \u001b[90m━━━━━━━━━━━━━━━━━━━━━━━━━━━━━━━━━━━━━━━━\u001b[0m \u001b[32m4.3/4.3 MB\u001b[0m \u001b[31m38.4 MB/s\u001b[0m eta \u001b[36m0:00:00\u001b[0m\n",
            "\u001b[?25hDownloading distlib-0.3.9-py2.py3-none-any.whl (468 kB)\n",
            "\u001b[?25l   \u001b[90m━━━━━━━━━━━━━━━━━━━━━━━━━━━━━━━━━━━━━━━━\u001b[0m \u001b[32m0.0/469.0 kB\u001b[0m \u001b[31m?\u001b[0m eta \u001b[36m-:--:--\u001b[0m\r\u001b[2K   \u001b[90m━━━━━━━━━━━━━━━━━━━━━━━━━━━━━━━━━━━━━━━━\u001b[0m \u001b[32m469.0/469.0 kB\u001b[0m \u001b[31m41.1 MB/s\u001b[0m eta \u001b[36m0:00:00\u001b[0m\n",
            "\u001b[?25hInstalling collected packages: distlib, virtualenv\n",
            "Successfully installed distlib-0.3.9 virtualenv-20.29.1\n",
            "created virtual environment CPython3.11.11.final.0-64 in 395ms\n",
            "  creator CPython3Posix(dest=/content/myenv, clear=False, no_vcs_ignore=False, global=False)\n",
            "  seeder FromAppData(download=False, pip=bundle, setuptools=bundle, wheel=bundle, via=copy, app_data_dir=/root/.local/share/virtualenv)\n",
            "    added seed packages: pip==24.3.1, setuptools==75.8.0, wheel==0.45.1\n",
            "  activators BashActivator,CShellActivator,FishActivator,NushellActivator,PowerShellActivator,PythonActivator\n",
            "--2025-02-04 05:51:05--  https://repo.anaconda.com/miniconda/Miniconda3-latest-Linux-x86_64.sh\n",
            "Resolving repo.anaconda.com (repo.anaconda.com)... 104.16.191.158, 104.16.32.241, 2606:4700::6810:bf9e, ...\n",
            "Connecting to repo.anaconda.com (repo.anaconda.com)|104.16.191.158|:443... connected.\n",
            "HTTP request sent, awaiting response... 200 OK\n",
            "Length: 147784736 (141M) [application/octet-stream]\n",
            "Saving to: ‘Miniconda3-latest-Linux-x86_64.sh’\n",
            "\n",
            "Miniconda3-latest-L 100%[===================>] 140.94M   223MB/s    in 0.6s    \n",
            "\n",
            "2025-02-04 05:51:06 (223 MB/s) - ‘Miniconda3-latest-Linux-x86_64.sh’ saved [147784736/147784736]\n",
            "\n",
            "PREFIX=/usr/local\n",
            "Unpacking payload ...\n",
            "\n",
            "Installing base environment...\n",
            "\n",
            "Preparing transaction: ...working... done\n",
            "Executing transaction: ...working... done\n",
            "installation finished.\n",
            "WARNING:\n",
            "    You currently have a PYTHONPATH environment variable set. This may cause\n",
            "    unexpected behavior when running the Python interpreter in Miniconda3.\n",
            "    For best results, please verify that your PYTHONPATH only points to\n",
            "    directories of packages that are compatible with the Python interpreter\n",
            "    in Miniconda3: /usr/local\n",
            "Channels:\n",
            " - defaults\n",
            "Platform: linux-64\n",
            "Collecting package metadata (repodata.json): ...working... done\n",
            "Solving environment: ...working... done\n",
            "\n",
            "## Package Plan ##\n",
            "\n",
            "  environment location: /usr/local\n",
            "\n",
            "  added / updated specs:\n",
            "    - python=3.10.12\n",
            "    - ujson\n",
            "\n",
            "\n",
            "The following packages will be downloaded:\n",
            "\n",
            "    package                    |            build\n",
            "    ---------------------------|-----------------\n",
            "    anaconda-anon-usage-0.5.0  |py310hfc0e8ea_100          27 KB\n",
            "    boltons-24.1.0             |  py310h06a4308_0         425 KB\n",
            "    brotli-python-1.0.9        |  py310h6a678d5_9         356 KB\n",
            "    ca-certificates-2024.12.31 |       h06a4308_0         128 KB\n",
            "    certifi-2025.1.31          |  py310h06a4308_0         162 KB\n",
            "    cffi-1.17.1                |  py310h1fdaa30_1         251 KB\n",
            "    conda-24.11.3              |  py310h06a4308_0         930 KB\n",
            "    conda-anaconda-telemetry-0.1.2|  py310h06a4308_0          13 KB\n",
            "    conda-content-trust-0.2.0  |  py310h06a4308_1          51 KB\n",
            "    conda-package-handling-2.4.0|  py310h06a4308_0         272 KB\n",
            "    conda-package-streaming-0.11.0|  py310h06a4308_0          30 KB\n",
            "    cryptography-43.0.3        |  py310h7825ff9_1         1.5 MB\n",
            "    distro-1.9.0               |  py310h06a4308_0          31 KB\n",
            "    frozendict-2.4.2           |  py310h5eee18b_0          55 KB\n",
            "    idna-3.7                   |  py310h06a4308_0         130 KB\n",
            "    jsonpatch-1.33             |  py310h06a4308_1          31 KB\n",
            "    libmambapy-1.5.11          |  py310haf1ee3a_0         340 KB\n",
            "    menuinst-2.2.0             |  py310h06a4308_0         226 KB\n",
            "    packaging-24.2             |  py310h06a4308_0         174 KB\n",
            "    pip-25.0                   |  py310h06a4308_0         2.3 MB\n",
            "    platformdirs-3.10.0        |  py310h06a4308_0          33 KB\n",
            "    pluggy-1.5.0               |  py310h06a4308_0          37 KB\n",
            "    pybind11-abi-4             |       hd3eb1b0_1          14 KB\n",
            "    pycosat-0.6.6              |  py310h5eee18b_2          88 KB\n",
            "    pysocks-1.7.1              |  py310h06a4308_0          28 KB\n",
            "    python-3.10.12             |       h955ad1f_0        26.8 MB\n",
            "    requests-2.32.3            |  py310h06a4308_1         101 KB\n",
            "    ruamel.yaml-0.18.6         |  py310h5eee18b_0         206 KB\n",
            "    ruamel.yaml.clib-0.2.8     |  py310h5eee18b_0         157 KB\n",
            "    setuptools-75.8.0          |  py310h06a4308_0         1.6 MB\n",
            "    tqdm-4.66.5                |  py310h2f386ee_0         134 KB\n",
            "    truststore-0.10.0          |  py310h06a4308_0          40 KB\n",
            "    ujson-5.10.0               |  py310h6a678d5_1         141 KB\n",
            "    urllib3-2.3.0              |  py310h06a4308_0         190 KB\n",
            "    wheel-0.45.1               |  py310h06a4308_0         115 KB\n",
            "    zstandard-0.23.0           |  py310h2c38b39_1         431 KB\n",
            "    ------------------------------------------------------------\n",
            "                                           Total:        37.5 MB\n",
            "\n",
            "The following NEW packages will be INSTALLED:\n",
            "\n",
            "  ujson              pkgs/main/linux-64::ujson-5.10.0-py310h6a678d5_1 \n",
            "\n",
            "The following packages will be UPDATED:\n",
            "\n",
            "  boltons                            23.0.0-py312h06a4308_0 --> 24.1.0-py310h06a4308_0 \n",
            "  brotli-python                       1.0.9-py312h6a678d5_8 --> 1.0.9-py310h6a678d5_9 \n",
            "  ca-certificates                     2024.11.26-h06a4308_0 --> 2024.12.31-h06a4308_0 \n",
            "  certifi                         2024.8.30-py312h06a4308_0 --> 2025.1.31-py310h06a4308_0 \n",
            "  cffi                               1.17.1-py312h1fdaa30_0 --> 1.17.1-py310h1fdaa30_1 \n",
            "  conda                             24.11.1-py312h06a4308_0 --> 24.11.3-py310h06a4308_0 \n",
            "  conda-anaconda-te~                  0.1.1-py312h06a4308_0 --> 0.1.2-py310h06a4308_0 \n",
            "  packaging                            24.1-py312h06a4308_0 --> 24.2-py310h06a4308_0 \n",
            "  pip                                  24.2-py312h06a4308_0 --> 25.0-py310h06a4308_0 \n",
            "  pycosat                             0.6.6-py312h5eee18b_1 --> 0.6.6-py310h5eee18b_2 \n",
            "  setuptools                         75.1.0-py312h06a4308_0 --> 75.8.0-py310h06a4308_0 \n",
            "  truststore                          0.8.0-py312h06a4308_0 --> 0.10.0-py310h06a4308_0 \n",
            "  urllib3                             2.2.3-py312h06a4308_0 --> 2.3.0-py310h06a4308_0 \n",
            "  wheel                              0.44.0-py312h06a4308_0 --> 0.45.1-py310h06a4308_0 \n",
            "\n",
            "The following packages will be DOWNGRADED:\n",
            "\n",
            "  anaconda-anon-usa~                0.5.0-py312hfc0e8ea_100 --> 0.5.0-py310hfc0e8ea_100 \n",
            "  conda-content-tru~                  0.2.0-py312h06a4308_1 --> 0.2.0-py310h06a4308_1 \n",
            "  conda-package-han~                  2.4.0-py312h06a4308_0 --> 2.4.0-py310h06a4308_0 \n",
            "  conda-package-str~                 0.11.0-py312h06a4308_0 --> 0.11.0-py310h06a4308_0 \n",
            "  cryptography                       43.0.3-py312h7825ff9_1 --> 43.0.3-py310h7825ff9_1 \n",
            "  distro                              1.9.0-py312h06a4308_0 --> 1.9.0-py310h06a4308_0 \n",
            "  frozendict                          2.4.2-py312h06a4308_0 --> 2.4.2-py310h5eee18b_0 \n",
            "  idna                                  3.7-py312h06a4308_0 --> 3.7-py310h06a4308_0 \n",
            "  jsonpatch                            1.33-py312h06a4308_1 --> 1.33-py310h06a4308_1 \n",
            "  libmambapy                         1.5.11-py312haf1ee3a_0 --> 1.5.11-py310haf1ee3a_0 \n",
            "  menuinst                            2.2.0-py312h06a4308_0 --> 2.2.0-py310h06a4308_0 \n",
            "  platformdirs                       3.10.0-py312h06a4308_0 --> 3.10.0-py310h06a4308_0 \n",
            "  pluggy                              1.5.0-py312h06a4308_0 --> 1.5.0-py310h06a4308_0 \n",
            "  pybind11-abi                                 5-hd3eb1b0_0 --> 4-hd3eb1b0_1 \n",
            "  pysocks                             1.7.1-py312h06a4308_0 --> 1.7.1-py310h06a4308_0 \n",
            "  python                                  3.12.8-h5148396_0 --> 3.10.12-h955ad1f_0 \n",
            "  requests                           2.32.3-py312h06a4308_1 --> 2.32.3-py310h06a4308_1 \n",
            "  ruamel.yaml                        0.18.6-py312h5eee18b_0 --> 0.18.6-py310h5eee18b_0 \n",
            "  ruamel.yaml.clib                    0.2.8-py312h5eee18b_0 --> 0.2.8-py310h5eee18b_0 \n",
            "  tqdm                               4.66.5-py312he106c6f_0 --> 4.66.5-py310h2f386ee_0 \n",
            "  zstandard                          0.23.0-py312h2c38b39_1 --> 0.23.0-py310h2c38b39_1 \n",
            "\n",
            "\n",
            "Preparing transaction: ...working... done\n",
            "Verifying transaction: ...working... done\n",
            "Executing transaction: ...working... done\n"
          ]
        }
      ],
      "source": [
        "# Install virtualenv and create a virtual environment\n",
        "!pip install virtualenv\n",
        "!virtualenv myenv\n",
        "\n",
        "# Download and install Miniconda\n",
        "!wget https://repo.anaconda.com/miniconda/Miniconda3-latest-Linux-x86_64.sh\n",
        "!chmod +x Miniconda3-latest-Linux-x86_64.sh\n",
        "!./Miniconda3-latest-Linux-x86_64.sh -b -f -p /usr/local\n",
        "\n",
        "# Activate Miniconda and install Python ver 3.10.12\n",
        "!source /usr/local/bin/activate\n",
        "!conda install -q -y --prefix /usr/local python=3.10.12 ujson  # Specify the version here\n",
        "\n",
        "# Set environment variables for Python and conda paths\n",
        "!export PYTHONPATH=/usr/local/lib/python3.10/site-packages/\n",
        "!export CONDA_PREFIX=/usr/local/envs/myenv"
      ]
    },
    {
      "cell_type": "code",
      "execution_count": 5,
      "metadata": {
        "id": "n9x98OR0meK4",
        "colab": {
          "base_uri": "https://localhost:8080/"
        },
        "outputId": "5d9df4e9-f924-4052-9e31-d892fe543d97"
      },
      "outputs": [
        {
          "output_type": "stream",
          "name": "stdout",
          "text": [
            "Python 3.10.12\n"
          ]
        }
      ],
      "source": [
        "# Python Version in New Virtual Environment (Compatible with ML-Agents)\n",
        "!python --version"
      ]
    },
    {
      "cell_type": "markdown",
      "metadata": {
        "id": "sfkxtGhLmeK4"
      },
      "source": [
        "## Installing the dependencies 🔽"
      ]
    },
    {
      "cell_type": "code",
      "execution_count": 6,
      "metadata": {
        "id": "d8wmVcMk7xKo"
      },
      "outputs": [],
      "source": [
        "%%capture\n",
        "# Go inside the repository and install the package (can take 3min)\n",
        "%cd ml-agents\n",
        "!pip3 install -e ./ml-agents-envs\n",
        "!pip3 install -e ./ml-agents"
      ]
    },
    {
      "cell_type": "markdown",
      "metadata": {
        "id": "HRY5ufKUKfhI"
      },
      "source": [
        "## Download and move the environment zip file in `./trained-envs-executables/linux/`\n",
        "\n",
        "- Our environment executable is in a zip file.\n",
        "- We need to download it and place it to `./trained-envs-executables/linux/`"
      ]
    },
    {
      "cell_type": "code",
      "execution_count": 7,
      "metadata": {
        "id": "C9Ls6_6eOKiA"
      },
      "outputs": [],
      "source": [
        "!mkdir ./trained-envs-executables\n",
        "!mkdir ./trained-envs-executables/linux"
      ]
    },
    {
      "cell_type": "markdown",
      "metadata": {
        "id": "IHh_LXsRrrbM"
      },
      "source": [
        "We downloaded the file Huggy.zip from https://github.com/huggingface/Huggy using `wget`"
      ]
    },
    {
      "cell_type": "code",
      "execution_count": 8,
      "metadata": {
        "id": "8xNAD1tRpy0_",
        "colab": {
          "base_uri": "https://localhost:8080/"
        },
        "outputId": "7737cd28-adff-4e1a-8db4-2bdfc630c347"
      },
      "outputs": [
        {
          "output_type": "stream",
          "name": "stdout",
          "text": [
            "--2025-02-04 05:53:36--  https://github.com/huggingface/Huggy/raw/main/Huggy.zip\n",
            "Resolving github.com (github.com)... 140.82.113.4\n",
            "Connecting to github.com (github.com)|140.82.113.4|:443... connected.\n",
            "HTTP request sent, awaiting response... 302 Found\n",
            "Location: https://media.githubusercontent.com/media/huggingface/Huggy/main/Huggy.zip [following]\n",
            "--2025-02-04 05:53:36--  https://media.githubusercontent.com/media/huggingface/Huggy/main/Huggy.zip\n",
            "Resolving media.githubusercontent.com (media.githubusercontent.com)... 185.199.108.133, 185.199.110.133, 185.199.111.133, ...\n",
            "Connecting to media.githubusercontent.com (media.githubusercontent.com)|185.199.108.133|:443... connected.\n",
            "HTTP request sent, awaiting response... 200 OK\n",
            "Length: 39214997 (37M) [application/zip]\n",
            "Saving to: ‘./trained-envs-executables/linux/Huggy.zip’\n",
            "\n",
            "./trained-envs-exec 100%[===================>]  37.40M   209MB/s    in 0.2s    \n",
            "\n",
            "2025-02-04 05:53:37 (209 MB/s) - ‘./trained-envs-executables/linux/Huggy.zip’ saved [39214997/39214997]\n",
            "\n"
          ]
        }
      ],
      "source": [
        "!wget \"https://github.com/huggingface/Huggy/raw/main/Huggy.zip\" -O ./trained-envs-executables/linux/Huggy.zip"
      ]
    },
    {
      "cell_type": "code",
      "execution_count": 9,
      "metadata": {
        "id": "8FPx0an9IAwO"
      },
      "outputs": [],
      "source": [
        "%%capture\n",
        "!unzip -d ./trained-envs-executables/linux/ ./trained-envs-executables/linux/Huggy.zip"
      ]
    },
    {
      "cell_type": "markdown",
      "metadata": {
        "id": "nyumV5XfPKzu"
      },
      "source": [
        "Make sure your file is accessible"
      ]
    },
    {
      "cell_type": "code",
      "execution_count": 10,
      "metadata": {
        "id": "EdFsLJ11JvQf"
      },
      "outputs": [],
      "source": [
        "!chmod -R 755 ./trained-envs-executables/linux/Huggy"
      ]
    },
    {
      "cell_type": "markdown",
      "metadata": {
        "id": "dYKVj8yUvj55"
      },
      "source": [
        "## Let's recap how this environment works\n",
        "\n",
        "### The State Space: what Huggy \"perceives.\"\n",
        "\n",
        "Huggy doesn't \"see\" his environment. Instead, we provide him information about the environment:\n",
        "\n",
        "- The target (stick) position\n",
        "- The relative position between himself and the target\n",
        "- The orientation of his legs.\n",
        "\n",
        "Given all this information, Huggy **can decide which action to take next to fulfill his goal**.\n",
        "\n",
        "<img src=\"https://huggingface.co/datasets/huggingface-deep-rl-course/course-images/resolve/main/en/notebooks/unit-bonus1/huggy.jpg\" alt=\"Huggy\" width=\"100%\">\n",
        "\n",
        "\n",
        "### The Action Space: what moves Huggy can do\n",
        "<img src=\"https://huggingface.co/datasets/huggingface-deep-rl-course/course-images/resolve/main/en/notebooks/unit-bonus1/huggy-action.jpg\" alt=\"Huggy action\" width=\"100%\">\n",
        "\n",
        "**Joint motors drive huggy legs**. It means that to get the target, Huggy needs to **learn to rotate the joint motors of each of his legs correctly so he can move**.\n",
        "\n",
        "### The Reward Function\n",
        "\n",
        "The reward function is designed so that **Huggy will fulfill his goal** : fetch the stick.\n",
        "\n",
        "Remember that one of the foundations of Reinforcement Learning is the *reward hypothesis*: a goal can be described as the **maximization of the expected cumulative reward**.\n",
        "\n",
        "Here, our goal is that Huggy **goes towards the stick but without spinning too much**. Hence, our reward function must translate this goal.\n",
        "\n",
        "Our reward function:\n",
        "\n",
        "<img src=\"https://huggingface.co/datasets/huggingface-deep-rl-course/course-images/resolve/main/en/notebooks/unit-bonus1/reward.jpg\" alt=\"Huggy reward function\" width=\"100%\">\n",
        "\n",
        "- *Orientation bonus*: we **reward him for getting close to the target**.\n",
        "- *Time penalty*: a fixed-time penalty given at every action to **force him to get to the stick as fast as possible**.\n",
        "- *Rotation penalty*: we penalize Huggy if **he spins too much and turns too quickly**.\n",
        "- *Getting to the target reward*: we reward Huggy for **reaching the target**."
      ]
    },
    {
      "cell_type": "markdown",
      "metadata": {
        "id": "NAuEq32Mwvtz"
      },
      "source": [
        "## Create the Huggy config file\n",
        "\n",
        "- In ML-Agents, you define the **training hyperparameters into config.yaml files.**\n",
        "\n",
        "- For the scope of this notebook, we're not going to modify the hyperparameters, but if you want to try as an experiment, you should also try to modify some other hyperparameters, Unity provides very [good documentation explaining each of them here](https://github.com/Unity-Technologies/ml-agents/blob/main/docs/Training-Configuration-File.md).\n",
        "\n",
        "- But we need to create a config file for Huggy.\n",
        "\n",
        "  - To do that click on Folder logo on the left of your screen.\n",
        "\n",
        "  <img src=\"https://huggingface.co/datasets/huggingface-deep-rl-course/course-images/resolve/main/en/unit1/create_file.png\" alt=\"Create file\" width=\"10%\">\n",
        "\n",
        "  - Go to `/content/ml-agents/config/ppo`\n",
        "  - Right mouse click and create a new file called `Huggy.yaml`\n",
        "\n",
        "  <img src=\"https://huggingface.co/datasets/huggingface-deep-rl-course/course-images/resolve/main/en/unit1/create-huggy.png\" alt=\"Create huggy.yaml\" width=\"20%\">\n",
        "\n",
        "- Copy and paste the content below 🔽"
      ]
    },
    {
      "cell_type": "code",
      "execution_count": 12,
      "metadata": {
        "id": "loQ0N5jhXW71"
      },
      "outputs": [],
      "source": [
        "behaviors:\n",
        "  Huggy:\n",
        "    trainer_type: ppo\n",
        "    hyperparameters:\n",
        "      batch_size: 2048\n",
        "      buffer_size: 20480\n",
        "      learning_rate: 0.0003\n",
        "      beta: 0.005\n",
        "      epsilon: 0.2\n",
        "      lambd: 0.95\n",
        "      num_epoch: 3\n",
        "      learning_rate_schedule: linear\n",
        "    network_settings:\n",
        "      normalize: true\n",
        "      hidden_units: 512\n",
        "      num_layers: 3\n",
        "      vis_encode_type: simple\n",
        "    reward_signals:\n",
        "      extrinsic:\n",
        "        gamma: 0.995\n",
        "        strength: 1.0\n",
        "    checkpoint_interval: 200000\n",
        "    keep_checkpoints: 15\n",
        "    max_steps: 2e6\n",
        "    time_horizon: 1000\n",
        "    summary_freq: 50000"
      ]
    },
    {
      "cell_type": "markdown",
      "metadata": {
        "id": "oakN7UHwXdCX"
      },
      "source": [
        "- Don't forget to save the file!"
      ]
    },
    {
      "cell_type": "markdown",
      "metadata": {
        "id": "r9wv5NYGw-05"
      },
      "source": [
        "- **In the case you want to modify the hyperparameters**, in Google Colab notebook, you can click here to open the config.yaml: `/content/ml-agents/config/ppo/Huggy.yaml`\n",
        "\n",
        "- For instance **if you want to save more models during the training** (for now, we save every 200,000 training timesteps). You need to modify:\n",
        "  - `checkpoint_interval`: The number of training timesteps collected between each checkpoint.\n",
        "  - `keep_checkpoints`: The maximum number of model checkpoints to keep.\n",
        "\n",
        "=> Just keep in mind that **decreasing the `checkpoint_interval` means more models to upload to the Hub and so a longer uploading time**\n",
        "We’re now ready to train our agent 🔥."
      ]
    },
    {
      "cell_type": "markdown",
      "metadata": {
        "id": "f9fI555bO12v"
      },
      "source": [
        "## Train our agent\n",
        "\n",
        "To train our agent, we just need to **launch mlagents-learn and select the executable containing the environment.**\n",
        "\n",
        "<img src=\"https://huggingface.co/datasets/huggingface-deep-rl-course/course-images/resolve/main/en/notebooks/unit-bonus1/mllearn.png\" alt=\"ml learn function\" width=\"100%\">\n",
        "\n",
        "With ML Agents, we run a training script. We define four parameters:\n",
        "\n",
        "1. `mlagents-learn <config>`: the path where the hyperparameter config file is.\n",
        "2. `--env`: where the environment executable is.\n",
        "3. `--run-id`: the name you want to give to your training run id.\n",
        "4. `--no-graphics`: to not launch the visualization during the training.\n",
        "\n",
        "Train the model and use the `--resume` flag to continue training in case of interruption.\n",
        "\n",
        "> It will fail first time when you use `--resume`, try running the block again to bypass the error.\n",
        "\n"
      ]
    },
    {
      "cell_type": "markdown",
      "metadata": {
        "id": "lN32oWF8zPjs"
      },
      "source": [
        "The training will take 30 to 45min depending on your machine (don't forget to **set up a GPU**), go take a ☕️you deserve it 🤗."
      ]
    },
    {
      "cell_type": "code",
      "execution_count": 11,
      "metadata": {
        "id": "bS-Yh1UdHfzy",
        "colab": {
          "base_uri": "https://localhost:8080/"
        },
        "outputId": "3bf217c5-7682-4abc-e38e-066b364a2192"
      },
      "outputs": [
        {
          "output_type": "stream",
          "name": "stdout",
          "text": [
            "\n",
            "            ┐  ╖\n",
            "        ╓╖╬│╡  ││╬╖╖\n",
            "    ╓╖╬│││││┘  ╬│││││╬╖\n",
            " ╖╬│││││╬╜        ╙╬│││││╖╖                               ╗╗╗\n",
            " ╬╬╬╬╖││╦╖        ╖╬││╗╣╣╣╬      ╟╣╣╬    ╟╣╣╣             ╜╜╜  ╟╣╣\n",
            " ╬╬╬╬╬╬╬╬╖│╬╖╖╓╬╪│╓╣╣╣╣╣╣╣╬      ╟╣╣╬    ╟╣╣╣ ╒╣╣╖╗╣╣╣╗   ╣╣╣ ╣╣╣╣╣╣ ╟╣╣╖   ╣╣╣\n",
            " ╬╬╬╬┐  ╙╬╬╬╬│╓╣╣╣╝╜  ╫╣╣╣╬      ╟╣╣╬    ╟╣╣╣ ╟╣╣╣╙ ╙╣╣╣  ╣╣╣ ╙╟╣╣╜╙  ╫╣╣  ╟╣╣\n",
            " ╬╬╬╬┐     ╙╬╬╣╣      ╫╣╣╣╬      ╟╣╣╬    ╟╣╣╣ ╟╣╣╬   ╣╣╣  ╣╣╣  ╟╣╣     ╣╣╣┌╣╣╜\n",
            " ╬╬╬╜       ╬╬╣╣      ╙╝╣╣╬      ╙╣╣╣╗╖╓╗╣╣╣╜ ╟╣╣╬   ╣╣╣  ╣╣╣  ╟╣╣╦╓    ╣╣╣╣╣\n",
            " ╙   ╓╦╖    ╬╬╣╣   ╓╗╗╖            ╙╝╣╣╣╣╝╜   ╘╝╝╜   ╝╝╝  ╝╝╝   ╙╣╣╣    ╟╣╣╣\n",
            "   ╩╬╬╬╬╬╬╦╦╬╬╣╣╗╣╣╣╣╣╣╣╝                                             ╫╣╣╣╣\n",
            "      ╙╬╬╬╬╬╬╬╣╣╣╣╣╣╝╜\n",
            "          ╙╬╬╬╣╣╣╜\n",
            "             ╙\n",
            "        \n",
            " Version information:\n",
            "  ml-agents: 1.2.0.dev0,\n",
            "  ml-agents-envs: 1.2.0.dev0,\n",
            "  Communicator API: 1.5.0,\n",
            "  PyTorch: 2.6.0+cu124\n",
            "[INFO] Connected to Unity environment with package version 2.2.1-exp.1 and communication version 1.5.0\n",
            "[INFO] Connected new brain: Huggy?team=0\n",
            "[INFO] Hyperparameters for behavior name Huggy: \n",
            "\ttrainer_type:\tppo\n",
            "\thyperparameters:\t\n",
            "\t  batch_size:\t2048\n",
            "\t  buffer_size:\t20480\n",
            "\t  learning_rate:\t0.0003\n",
            "\t  beta:\t0.005\n",
            "\t  epsilon:\t0.2\n",
            "\t  lambd:\t0.95\n",
            "\t  num_epoch:\t3\n",
            "\t  shared_critic:\tFalse\n",
            "\t  learning_rate_schedule:\tlinear\n",
            "\t  beta_schedule:\tlinear\n",
            "\t  epsilon_schedule:\tlinear\n",
            "\tcheckpoint_interval:\t200000\n",
            "\tnetwork_settings:\t\n",
            "\t  normalize:\tTrue\n",
            "\t  hidden_units:\t512\n",
            "\t  num_layers:\t3\n",
            "\t  vis_encode_type:\tsimple\n",
            "\t  memory:\tNone\n",
            "\t  goal_conditioning_type:\thyper\n",
            "\t  deterministic:\tFalse\n",
            "\treward_signals:\t\n",
            "\t  extrinsic:\t\n",
            "\t    gamma:\t0.995\n",
            "\t    strength:\t1.0\n",
            "\t    network_settings:\t\n",
            "\t      normalize:\tFalse\n",
            "\t      hidden_units:\t128\n",
            "\t      num_layers:\t2\n",
            "\t      vis_encode_type:\tsimple\n",
            "\t      memory:\tNone\n",
            "\t      goal_conditioning_type:\thyper\n",
            "\t      deterministic:\tFalse\n",
            "\tinit_path:\tNone\n",
            "\tkeep_checkpoints:\t15\n",
            "\teven_checkpoints:\tFalse\n",
            "\tmax_steps:\t2000000\n",
            "\ttime_horizon:\t1000\n",
            "\tsummary_freq:\t50000\n",
            "\tthreaded:\tFalse\n",
            "\tself_play:\tNone\n",
            "\tbehavioral_cloning:\tNone\n",
            "[INFO] Huggy. Step: 50000. Time Elapsed: 52.808 s. Mean Reward: 1.762. Std of Reward: 0.843. Training.\n",
            "[INFO] Huggy. Step: 100000. Time Elapsed: 99.317 s. Mean Reward: 2.582. Std of Reward: 1.064. Training.\n",
            "[INFO] Huggy. Step: 150000. Time Elapsed: 149.487 s. Mean Reward: 2.996. Std of Reward: 1.264. Training.\n",
            "[INFO] Huggy. Step: 200000. Time Elapsed: 195.781 s. Mean Reward: 3.386. Std of Reward: 1.358. Training.\n",
            "[INFO] Exported results/Huggy2/Huggy/Huggy-199893.onnx\n",
            "[INFO] Huggy. Step: 250000. Time Elapsed: 245.063 s. Mean Reward: 3.540. Std of Reward: 1.523. Training.\n",
            "[INFO] Huggy. Step: 300000. Time Elapsed: 293.608 s. Mean Reward: 3.861. Std of Reward: 1.579. Training.\n",
            "[INFO] Huggy. Step: 350000. Time Elapsed: 341.799 s. Mean Reward: 3.957. Std of Reward: 1.555. Training.\n",
            "[INFO] Huggy. Step: 400000. Time Elapsed: 393.434 s. Mean Reward: 3.934. Std of Reward: 1.611. Training.\n",
            "[INFO] Exported results/Huggy2/Huggy/Huggy-399880.onnx\n",
            "[INFO] Huggy. Step: 450000. Time Elapsed: 442.068 s. Mean Reward: 3.797. Std of Reward: 1.615. Training.\n",
            "[INFO] Huggy. Step: 500000. Time Elapsed: 493.615 s. Mean Reward: 3.872. Std of Reward: 1.669. Training.\n",
            "[INFO] Huggy. Step: 550000. Time Elapsed: 542.833 s. Mean Reward: 3.859. Std of Reward: 1.753. Training.\n",
            "[INFO] Huggy. Step: 600000. Time Elapsed: 594.911 s. Mean Reward: 3.769. Std of Reward: 1.683. Training.\n",
            "[INFO] Exported results/Huggy2/Huggy/Huggy-599967.onnx\n",
            "[INFO] Huggy. Step: 650000. Time Elapsed: 644.161 s. Mean Reward: 3.942. Std of Reward: 1.816. Training.\n",
            "[INFO] Huggy. Step: 700000. Time Elapsed: 693.017 s. Mean Reward: 3.871. Std of Reward: 1.794. Training.\n",
            "[INFO] Huggy. Step: 750000. Time Elapsed: 746.331 s. Mean Reward: 3.838. Std of Reward: 1.728. Training.\n",
            "[INFO] Huggy. Step: 800000. Time Elapsed: 795.525 s. Mean Reward: 3.825. Std of Reward: 1.687. Training.\n",
            "[INFO] Exported results/Huggy2/Huggy/Huggy-799983.onnx\n",
            "[INFO] Huggy. Step: 850000. Time Elapsed: 847.758 s. Mean Reward: 3.804. Std of Reward: 1.761. Training.\n",
            "[INFO] Huggy. Step: 900000. Time Elapsed: 897.157 s. Mean Reward: 3.869. Std of Reward: 1.777. Training.\n",
            "[INFO] Huggy. Step: 950000. Time Elapsed: 949.691 s. Mean Reward: 4.010. Std of Reward: 1.727. Training.\n",
            "[INFO] Huggy. Step: 1000000. Time Elapsed: 999.687 s. Mean Reward: 3.930. Std of Reward: 1.777. Training.\n",
            "[INFO] Exported results/Huggy2/Huggy/Huggy-999974.onnx\n",
            "[INFO] Huggy. Step: 1050000. Time Elapsed: 1049.714 s. Mean Reward: 3.886. Std of Reward: 1.757. Training.\n",
            "[INFO] Huggy. Step: 1100000. Time Elapsed: 1103.019 s. Mean Reward: 3.881. Std of Reward: 1.674. Training.\n",
            "[INFO] Huggy. Step: 1150000. Time Elapsed: 1152.705 s. Mean Reward: 3.981. Std of Reward: 1.767. Training.\n",
            "[INFO] Huggy. Step: 1200000. Time Elapsed: 1206.156 s. Mean Reward: 3.980. Std of Reward: 1.774. Training.\n",
            "[INFO] Exported results/Huggy2/Huggy/Huggy-1199992.onnx\n",
            "[INFO] Huggy. Step: 1250000. Time Elapsed: 1256.159 s. Mean Reward: 3.809. Std of Reward: 1.695. Training.\n",
            "[INFO] Huggy. Step: 1300000. Time Elapsed: 1308.672 s. Mean Reward: 3.994. Std of Reward: 1.791. Training.\n",
            "[INFO] Huggy. Step: 1350000. Time Elapsed: 1358.781 s. Mean Reward: 3.842. Std of Reward: 1.831. Training.\n",
            "[INFO] Huggy. Step: 1400000. Time Elapsed: 1408.680 s. Mean Reward: 3.681. Std of Reward: 1.766. Training.\n",
            "[INFO] Exported results/Huggy2/Huggy/Huggy-1399992.onnx\n",
            "[INFO] Huggy. Step: 1450000. Time Elapsed: 1461.460 s. Mean Reward: 4.116. Std of Reward: 1.795. Training.\n",
            "[INFO] Huggy. Step: 1500000. Time Elapsed: 1511.021 s. Mean Reward: 3.723. Std of Reward: 1.860. Training.\n",
            "[INFO] Huggy. Step: 1550000. Time Elapsed: 1563.879 s. Mean Reward: 3.872. Std of Reward: 1.822. Training.\n",
            "[INFO] Huggy. Step: 1600000. Time Elapsed: 1613.427 s. Mean Reward: 3.837. Std of Reward: 1.846. Training.\n",
            "[INFO] Exported results/Huggy2/Huggy/Huggy-1599911.onnx\n",
            "[INFO] Huggy. Step: 1650000. Time Elapsed: 1666.646 s. Mean Reward: 3.771. Std of Reward: 1.778. Training.\n",
            "[INFO] Huggy. Step: 1700000. Time Elapsed: 1717.024 s. Mean Reward: 3.900. Std of Reward: 1.758. Training.\n",
            "[INFO] Huggy. Step: 1750000. Time Elapsed: 1769.472 s. Mean Reward: 3.833. Std of Reward: 1.822. Training.\n",
            "[INFO] Huggy. Step: 1800000. Time Elapsed: 1819.600 s. Mean Reward: 3.885. Std of Reward: 1.756. Training.\n",
            "[INFO] Exported results/Huggy2/Huggy/Huggy-1799855.onnx\n",
            "[INFO] Huggy. Step: 1850000. Time Elapsed: 1869.216 s. Mean Reward: 3.887. Std of Reward: 1.821. Training.\n",
            "[INFO] Huggy. Step: 1900000. Time Elapsed: 1922.740 s. Mean Reward: 3.794. Std of Reward: 1.749. Training.\n",
            "[INFO] Huggy. Step: 1950000. Time Elapsed: 1972.173 s. Mean Reward: 3.886. Std of Reward: 1.857. Training.\n",
            "[INFO] Huggy. Step: 2000000. Time Elapsed: 2025.592 s. Mean Reward: 3.894. Std of Reward: 1.737. Training.\n",
            "[INFO] Exported results/Huggy2/Huggy/Huggy-1999957.onnx\n",
            "[INFO] Exported results/Huggy2/Huggy/Huggy-2000041.onnx\n",
            "[INFO] Copied results/Huggy2/Huggy/Huggy-2000041.onnx to results/Huggy2/Huggy.onnx.\n"
          ]
        }
      ],
      "source": [
        "!mlagents-learn ./config/ppo/Huggy.yaml --env=./trained-envs-executables/linux/Huggy/Huggy --run-id=\"Huggy2\" --no-graphics"
      ]
    },
    {
      "cell_type": "markdown",
      "metadata": {
        "id": "5Vue94AzPy1t"
      },
      "source": [
        "## Push the agent to the 🤗 Hub\n",
        "\n",
        "- Now that we trained our agent, we’re **ready to push it to the Hub to be able to play with Huggy on your browser🔥.**"
      ]
    },
    {
      "cell_type": "markdown",
      "metadata": {
        "id": "izT6FpgNzZ6R"
      },
      "source": [
        "To be able to share your model with the community there are three more steps to follow:\n",
        "\n",
        "1️⃣ (If it's not already done) create an account to HF ➡ https://huggingface.co/join\n",
        "\n",
        "2️⃣ Sign in and then, you need to store your authentication token from the Hugging Face website.\n",
        "- Create a new token (https://huggingface.co/settings/tokens) **with write role**\n",
        "\n",
        "<img src=\"https://huggingface.co/datasets/huggingface-deep-rl-course/course-images/resolve/main/en/notebooks/create-token.jpg\" alt=\"Create HF Token\">\n",
        "\n",
        "- Copy the token\n",
        "- Run the cell below and paste the token"
      ]
    },
    {
      "cell_type": "code",
      "execution_count": 12,
      "metadata": {
        "id": "rKt2vsYoK56o",
        "colab": {
          "base_uri": "https://localhost:8080/",
          "height": 17,
          "referenced_widgets": [
            "dd492c2caeab42f7a9cb91bce763412c",
            "36233378188a4faba4155cbdbcd43472",
            "0c5206dfc8b04d70a705088634d89bc2",
            "9a8ca54748d44ffcaf1ecc78802f9a63",
            "a1fe2c17c1f842d8a13fb1f1a8cbf148",
            "4ffaf8243406476c935d3937d3511999",
            "e5d1abe913ad4e6a8ba473efe3552cf7",
            "630b56176d71489a80905a7834bcbcb3",
            "200250998cb745268da7a64c88980afa",
            "b7383db9f5994c7c8e6a42175e05c4c6",
            "4fc9d3241f464969bbcf32fa0f4add74",
            "34e27e5263f540abb37a04cf1ffbebfc",
            "584d022aae304957b243822444498b38",
            "4e42197dae0d41d3b1882240aa102ce2",
            "9d7f36c2a3be41279eaac58c672c1452",
            "475c7f977f9144bf9dfc895843f96cf2",
            "eb9f9f98d8554b82a167d329312b294b",
            "4365697ffd99484ba72061c21cf0cf54",
            "2664d5eb34b84c599bb5a68e43009d52",
            "e97a25361d5a42de916ff30608d956e6"
          ]
        },
        "outputId": "d7b56382-e859-42cb-dc2d-7d3ccba27f10"
      },
      "outputs": [
        {
          "output_type": "display_data",
          "data": {
            "text/plain": [
              "VBox(children=(HTML(value='<center> <img\\nsrc=https://huggingface.co/front/assets/huggingface_logo-noborder.sv…"
            ],
            "application/vnd.jupyter.widget-view+json": {
              "version_major": 2,
              "version_minor": 0,
              "model_id": "dd492c2caeab42f7a9cb91bce763412c"
            }
          },
          "metadata": {}
        }
      ],
      "source": [
        "from huggingface_hub import notebook_login\n",
        "notebook_login()"
      ]
    },
    {
      "cell_type": "markdown",
      "metadata": {
        "id": "ew59mK19zjtN"
      },
      "source": [
        "If you don't want to use a Google Colab or a Jupyter Notebook, you need to use this command instead: `huggingface-cli login`"
      ]
    },
    {
      "cell_type": "markdown",
      "metadata": {
        "id": "Xi0y_VASRzJU"
      },
      "source": [
        "Then, we simply need to run `mlagents-push-to-hf`.\n",
        "\n",
        "<img src=\"https://huggingface.co/datasets/huggingface-deep-rl-course/course-images/resolve/main/en/notebooks/unit-bonus1/mlpush.png\" alt=\"ml learn function\" width=\"100%\">"
      ]
    },
    {
      "cell_type": "markdown",
      "metadata": {
        "id": "KK4fPfnczunT"
      },
      "source": [
        "And we define 4 parameters:\n",
        "\n",
        "1. `--run-id`: the name of the training run id.\n",
        "2. `--local-dir`: where the agent was saved, it’s results/<run_id name>, so in my case results/First Training.\n",
        "3. `--repo-id`: the name of the Hugging Face repo you want to create or update. It’s always <your huggingface username>/<the repo name>\n",
        "If the repo does not exist **it will be created automatically**\n",
        "4. `--commit-message`: since HF repos are git repository you need to define a commit message."
      ]
    },
    {
      "cell_type": "code",
      "execution_count": 13,
      "metadata": {
        "id": "dGEFAIboLVc6",
        "colab": {
          "base_uri": "https://localhost:8080/"
        },
        "outputId": "88d7b62c-b3b8-4cf8-9d57-9937261e2146"
      },
      "outputs": [
        {
          "output_type": "stream",
          "name": "stdout",
          "text": [
            "[INFO] This function will create a model card and upload your HuggyTraining into HuggingFace Hub. This is a work in progress: If you encounter a bug, please send open an issue\n",
            "[INFO] Pushing repo HuggyTraining to the Hugging Face Hub\n",
            "Huggy-1399992.onnx:   0% 0.00/2.27M [00:00<?, ?B/s]\n",
            "Huggy-1199992.onnx:   0% 0.00/2.27M [00:00<?, ?B/s]\u001b[A\n",
            "\n",
            "Huggy-1199992.pt:   0% 0.00/13.5M [00:00<?, ?B/s]\u001b[A\u001b[A\n",
            "\n",
            "\n",
            "\n",
            "Upload 25 LFS files:   0% 0/25 [00:00<?, ?it/s]\u001b[A\u001b[A\u001b[A\u001b[A\n",
            "\n",
            "\n",
            "Huggy-1399992.pt:   0% 0.00/13.5M [00:00<?, ?B/s]\u001b[A\u001b[A\u001b[A\n",
            "\n",
            "\n",
            "\n",
            "\n",
            "Huggy-1399992.onnx:  15% 344k/2.27M [00:00<00:00, 3.44MB/s]\n",
            "Huggy-1199992.onnx:  35% 786k/2.27M [00:00<00:00, 7.74MB/s]\u001b[A\n",
            "\n",
            "Huggy-1199992.pt:   7% 983k/13.5M [00:00<00:01, 9.83MB/s]\u001b[A\u001b[A\n",
            "\n",
            "\n",
            "Huggy-1399992.pt:   9% 1.25M/13.5M [00:00<00:01, 11.4MB/s]\u001b[A\u001b[A\u001b[A\n",
            "\n",
            "\n",
            "\n",
            "\n",
            "Huggy-1599911.onnx:  69% 1.57M/2.27M [00:00<00:00, 14.2MB/s]\u001b[A\u001b[A\u001b[A\u001b[A\u001b[A\n",
            "\n",
            "Huggy-1199992.pt:  27% 3.67M/13.5M [00:00<00:00, 18.7MB/s]\u001b[A\u001b[A\n",
            "\n",
            "\n",
            "Huggy-1399992.pt:  54% 7.26M/13.5M [00:00<00:00, 32.7MB/s]\u001b[A\u001b[A\u001b[A\n",
            "\n",
            "Huggy-1399992.onnx: 100% 2.27M/2.27M [00:00<00:00, 6.77MB/s]\n",
            "Huggy-1199992.onnx: 100% 2.27M/2.27M [00:00<00:00, 6.61MB/s]\n",
            "\n",
            "\n",
            "\n",
            "Huggy-1599911.onnx: 100% 2.27M/2.27M [00:00<00:00, 4.74MB/s]\n",
            "\n",
            "\n",
            "\n",
            "\n",
            "Huggy-1199992.pt: 100% 13.5M/13.5M [00:00<00:00, 24.0MB/s]\n",
            "\n",
            "Huggy-1599911.pt:  56% 7.54M/13.5M [00:00<00:00, 63.3MB/s]\n",
            "\n",
            "\n",
            "\n",
            "Upload 25 LFS files:   8% 2/25 [00:00<00:06,  3.30it/s]\u001b[A\u001b[A\u001b[A\u001b[A\n",
            "\n",
            "Huggy-1399992.pt: 100% 13.5M/13.5M [00:00<00:00, 19.7MB/s]\n",
            "\n",
            "\n",
            "\n",
            "Huggy-1799855.onnx: 100% 2.27M/2.27M [00:00<00:00, 11.2MB/s]\n",
            "\n",
            "\n",
            "Huggy-1799855.pt:  45% 6.06M/13.5M [00:00<00:00, 48.7MB/s]\u001b[A\u001b[A\n",
            "Huggy-1599911.pt: 100% 13.5M/13.5M [00:00<00:00, 31.8MB/s]\n",
            "\n",
            "Huggy-1799855.pt: 100% 13.5M/13.5M [00:00<00:00, 32.4MB/s]\n",
            "Huggy-199893.onnx: 100% 2.27M/2.27M [00:00<00:00, 6.75MB/s]\n",
            "\n",
            "\n",
            "Huggy-1999957.onnx: 100% 2.27M/2.27M [00:00<00:00, 11.1MB/s]\n",
            "\n",
            "\n",
            "Huggy-1999957.pt: 100% 13.5M/13.5M [00:00<00:00, 42.2MB/s]\n",
            "\n",
            "\n",
            "Huggy-199893.pt: 100% 13.5M/13.5M [00:00<00:00, 19.6MB/s]\n",
            "\n",
            "Huggy.onnx: 100% 2.27M/2.27M [00:00<00:00, 6.33MB/s]\n",
            "\n",
            "\n",
            "Huggy-399880.pt:   0% 0.00/13.5M [00:00<?, ?B/s]\n",
            "\n",
            "\n",
            "Huggy-2000041.pt: 100% 13.5M/13.5M [00:00<00:00, 42.0MB/s]\n",
            "Huggy-399880.onnx: 100% 2.27M/2.27M [00:00<00:00, 7.00MB/s]\n",
            "\n",
            "\n",
            "\n",
            "\n",
            "Upload 25 LFS files:  12% 3/25 [00:01<00:16,  1.34it/s]\u001b[A\u001b[A\u001b[A\u001b[A\n",
            "Huggy-399880.pt:  95% 12.9M/13.5M [00:00<00:00, 50.8MB/s]\n",
            "\n",
            "\n",
            "\n",
            "Upload 25 LFS files:  56% 14/25 [00:02<00:01, 10.00it/s]\u001b[A\u001b[A\u001b[A\u001b[A\n",
            "\n",
            "Huggy-799983.onnx:   0% 0.00/2.27M [00:00<?, ?B/s]\u001b[A\u001b[A\n",
            "Huggy-599967.pt:  49% 6.57M/13.5M [00:00<00:00, 54.1MB/s]\u001b[A\n",
            "\n",
            "\n",
            "\n",
            "\n",
            "Huggy-599967.onnx: 100% 2.27M/2.27M [00:00<00:00, 6.36MB/s]\n",
            "Huggy-799983.onnx: 100% 2.27M/2.27M [00:00<00:00, 20.1MB/s]\n",
            "\n",
            "\n",
            "\n",
            "\n",
            "\n",
            "Huggy-799983.pt:  53% 7.19M/13.5M [00:00<00:00, 54.2MB/s]\u001b[A\u001b[A\u001b[A\u001b[A\u001b[A\n",
            "\n",
            "Huggy-999974.onnx:   0% 0.00/2.27M [00:00<?, ?B/s]\u001b[A\u001b[A\n",
            "\n",
            "\n",
            "Huggy-399880.pt: 100% 13.5M/13.5M [00:00<00:00, 22.5MB/s]\n",
            "checkpoint.pt:   0% 0.00/13.5M [00:00<?, ?B/s]\n",
            "\n",
            "\n",
            "Huggy-599967.pt: 100% 13.5M/13.5M [00:00<00:00, 26.0MB/s]\n",
            "Huggy-799983.pt: 100% 13.5M/13.5M [00:00<00:00, 32.3MB/s]\n",
            "checkpoint.pt:  54% 7.24M/13.5M [00:00<00:00, 53.4MB/s]\n",
            "\n",
            "\n",
            "\n",
            "Upload 25 LFS files:  76% 19/25 [00:02<00:00,  9.74it/s]\u001b[A\u001b[A\u001b[A\u001b[A\n",
            "events.out.tfevents.1738648422.79898df64793.3093.0:   0% 0.00/360k [00:00<?, ?B/s]\u001b[A\n",
            "\n",
            "\n",
            "\n",
            "\n",
            "Huggy-999974.onnx: 100% 2.27M/2.27M [00:00<00:00, 5.46MB/s]\n",
            "Huggy.onnx: 100% 2.27M/2.27M [00:00<00:00, 14.5MB/s]\n",
            "events.out.tfevents.1738648422.79898df64793.3093.0: 100% 360k/360k [00:00<00:00, 1.82MB/s]\n",
            "Huggy-999974.pt: 100% 13.5M/13.5M [00:00<00:00, 21.9MB/s]\n",
            "checkpoint.pt: 100% 13.5M/13.5M [00:00<00:00, 24.6MB/s]\n",
            "\n",
            "\n",
            "\n",
            "\n",
            "Upload 25 LFS files: 100% 25/25 [00:03<00:00,  8.05it/s]\n",
            "[INFO] Your model is pushed to the hub. You can view your model here: https://huggingface.co/Veda0718/ppo-Huggy\n"
          ]
        }
      ],
      "source": [
        "!mlagents-push-to-hf --run-id=\"HuggyTraining\" --local-dir=\"./results/Huggy2\" --repo-id=\"Veda0718/ppo-Huggy\" --commit-message=\"Huggy\""
      ]
    },
    {
      "cell_type": "markdown",
      "metadata": {
        "id": "yborB0850FTM"
      },
      "source": [
        "Else, if everything worked you should have this at the end of the process(but with a different url 😆) :\n",
        "\n",
        "\n",
        "\n",
        "```\n",
        "Your model is pushed to the hub. You can view your model here: https://huggingface.co/ThomasSimonini/ppo-Huggy\n",
        "```\n",
        "\n",
        "It’s the link to your model repository. The repository contains a model card that explains how to use the model, your Tensorboard logs and your config file. **What’s awesome is that it’s a git repository, which means you can have different commits, update your repository with a new push, open Pull Requests, etc.**\n",
        "\n",
        "<img src=\"https://huggingface.co/datasets/huggingface-deep-rl-course/course-images/resolve/main/en/notebooks/unit-bonus1/modelcard.png\" alt=\"ml learn function\" width=\"100%\">"
      ]
    },
    {
      "cell_type": "markdown",
      "metadata": {
        "id": "5Uaon2cg0NrL"
      },
      "source": [
        "But now comes the best: **being able to play with Huggy online 👀.**"
      ]
    },
    {
      "cell_type": "markdown",
      "metadata": {
        "id": "VMc4oOsE0QiZ"
      },
      "source": [
        "## Play with your Huggy 🐕\n",
        "\n",
        "This step is the simplest:\n",
        "\n",
        "- Open the game Huggy in your browser: https://huggingface.co/spaces/ThomasSimonini/Huggy\n",
        "\n",
        "- Click on Play with my Huggy model\n",
        "\n",
        "<img src=\"https://huggingface.co/datasets/huggingface-deep-rl-course/course-images/resolve/main/en/notebooks/unit-bonus1/load-huggy.jpg\" alt=\"load-huggy\" width=\"100%\">"
      ]
    },
    {
      "cell_type": "markdown",
      "metadata": {
        "id": "Djs8c5rR0Z8a"
      },
      "source": [
        "1. In step 1, type your username (your username is case sensitive: for instance, my username is ThomasSimonini not thomassimonini or ThOmasImoNInI) and click on the search button.\n",
        "\n",
        "2. In step 2, select your model repository.\n",
        "\n",
        "3. In step 3, **choose which model you want to replay**:\n",
        "  - I have multiple ones, since we saved a model every 500000 timesteps.\n",
        "  - But since I want the more recent, I choose `Huggy.onnx`\n",
        "\n",
        "👉 What’s nice **is to try with different models steps to see the improvement of the agent.**"
      ]
    },
    {
      "cell_type": "markdown",
      "metadata": {
        "id": "PI6dPWmh064H"
      },
      "source": [
        "Congrats on finishing this bonus unit!\n",
        "\n",
        "You can now sit and enjoy playing with your Huggy 🐶. And don't **forget to spread the love by sharing Huggy with your friends 🤗**. And if you share about it on social media, **please tag us @huggingface and me @simoninithomas**\n",
        "\n",
        "<img src=\"https://huggingface.co/datasets/huggingface-deep-rl-course/course-images/resolve/main/en/notebooks/unit-bonus1/huggy-cover.jpeg\" alt=\"Huggy cover\" width=\"100%\">\n",
        "\n",
        "\n",
        "## Keep Learning, Stay  awesome 🤗"
      ]
    }
  ],
  "metadata": {
    "accelerator": "GPU",
    "colab": {
      "provenance": [],
      "machine_shape": "hm",
      "gpuType": "A100"
    },
    "kernelspec": {
      "display_name": "Python 3",
      "name": "python3"
    },
    "language_info": {
      "name": "python"
    },
    "widgets": {
      "application/vnd.jupyter.widget-state+json": {
        "dd492c2caeab42f7a9cb91bce763412c": {
          "model_module": "@jupyter-widgets/controls",
          "model_name": "VBoxModel",
          "model_module_version": "1.5.0",
          "state": {
            "_dom_classes": [],
            "_model_module": "@jupyter-widgets/controls",
            "_model_module_version": "1.5.0",
            "_model_name": "VBoxModel",
            "_view_count": null,
            "_view_module": "@jupyter-widgets/controls",
            "_view_module_version": "1.5.0",
            "_view_name": "VBoxView",
            "box_style": "",
            "children": [],
            "layout": "IPY_MODEL_e5d1abe913ad4e6a8ba473efe3552cf7"
          }
        },
        "36233378188a4faba4155cbdbcd43472": {
          "model_module": "@jupyter-widgets/controls",
          "model_name": "HTMLModel",
          "model_module_version": "1.5.0",
          "state": {
            "_dom_classes": [],
            "_model_module": "@jupyter-widgets/controls",
            "_model_module_version": "1.5.0",
            "_model_name": "HTMLModel",
            "_view_count": null,
            "_view_module": "@jupyter-widgets/controls",
            "_view_module_version": "1.5.0",
            "_view_name": "HTMLView",
            "description": "",
            "description_tooltip": null,
            "layout": "IPY_MODEL_630b56176d71489a80905a7834bcbcb3",
            "placeholder": "​",
            "style": "IPY_MODEL_200250998cb745268da7a64c88980afa",
            "value": "<center> <img\nsrc=https://huggingface.co/front/assets/huggingface_logo-noborder.svg\nalt='Hugging Face'> <br> Copy a token from <a\nhref=\"https://huggingface.co/settings/tokens\" target=\"_blank\">your Hugging Face\ntokens page</a> and paste it below. <br> Immediately click login after copying\nyour token or it might be stored in plain text in this notebook file. </center>"
          }
        },
        "0c5206dfc8b04d70a705088634d89bc2": {
          "model_module": "@jupyter-widgets/controls",
          "model_name": "PasswordModel",
          "model_module_version": "1.5.0",
          "state": {
            "_dom_classes": [],
            "_model_module": "@jupyter-widgets/controls",
            "_model_module_version": "1.5.0",
            "_model_name": "PasswordModel",
            "_view_count": null,
            "_view_module": "@jupyter-widgets/controls",
            "_view_module_version": "1.5.0",
            "_view_name": "PasswordView",
            "continuous_update": true,
            "description": "Token:",
            "description_tooltip": null,
            "disabled": false,
            "layout": "IPY_MODEL_b7383db9f5994c7c8e6a42175e05c4c6",
            "placeholder": "​",
            "style": "IPY_MODEL_4fc9d3241f464969bbcf32fa0f4add74",
            "value": ""
          }
        },
        "9a8ca54748d44ffcaf1ecc78802f9a63": {
          "model_module": "@jupyter-widgets/controls",
          "model_name": "CheckboxModel",
          "model_module_version": "1.5.0",
          "state": {
            "_dom_classes": [],
            "_model_module": "@jupyter-widgets/controls",
            "_model_module_version": "1.5.0",
            "_model_name": "CheckboxModel",
            "_view_count": null,
            "_view_module": "@jupyter-widgets/controls",
            "_view_module_version": "1.5.0",
            "_view_name": "CheckboxView",
            "description": "Add token as git credential?",
            "description_tooltip": null,
            "disabled": false,
            "indent": true,
            "layout": "IPY_MODEL_34e27e5263f540abb37a04cf1ffbebfc",
            "style": "IPY_MODEL_584d022aae304957b243822444498b38",
            "value": true
          }
        },
        "a1fe2c17c1f842d8a13fb1f1a8cbf148": {
          "model_module": "@jupyter-widgets/controls",
          "model_name": "ButtonModel",
          "model_module_version": "1.5.0",
          "state": {
            "_dom_classes": [],
            "_model_module": "@jupyter-widgets/controls",
            "_model_module_version": "1.5.0",
            "_model_name": "ButtonModel",
            "_view_count": null,
            "_view_module": "@jupyter-widgets/controls",
            "_view_module_version": "1.5.0",
            "_view_name": "ButtonView",
            "button_style": "",
            "description": "Login",
            "disabled": false,
            "icon": "",
            "layout": "IPY_MODEL_4e42197dae0d41d3b1882240aa102ce2",
            "style": "IPY_MODEL_9d7f36c2a3be41279eaac58c672c1452",
            "tooltip": ""
          }
        },
        "4ffaf8243406476c935d3937d3511999": {
          "model_module": "@jupyter-widgets/controls",
          "model_name": "HTMLModel",
          "model_module_version": "1.5.0",
          "state": {
            "_dom_classes": [],
            "_model_module": "@jupyter-widgets/controls",
            "_model_module_version": "1.5.0",
            "_model_name": "HTMLModel",
            "_view_count": null,
            "_view_module": "@jupyter-widgets/controls",
            "_view_module_version": "1.5.0",
            "_view_name": "HTMLView",
            "description": "",
            "description_tooltip": null,
            "layout": "IPY_MODEL_475c7f977f9144bf9dfc895843f96cf2",
            "placeholder": "​",
            "style": "IPY_MODEL_eb9f9f98d8554b82a167d329312b294b",
            "value": "\n<b>Pro Tip:</b> If you don't already have one, you can create a dedicated\n'notebooks' token with 'write' access, that you can then easily reuse for all\nnotebooks. </center>"
          }
        },
        "e5d1abe913ad4e6a8ba473efe3552cf7": {
          "model_module": "@jupyter-widgets/base",
          "model_name": "LayoutModel",
          "model_module_version": "1.2.0",
          "state": {
            "_model_module": "@jupyter-widgets/base",
            "_model_module_version": "1.2.0",
            "_model_name": "LayoutModel",
            "_view_count": null,
            "_view_module": "@jupyter-widgets/base",
            "_view_module_version": "1.2.0",
            "_view_name": "LayoutView",
            "align_content": null,
            "align_items": "center",
            "align_self": null,
            "border": null,
            "bottom": null,
            "display": "flex",
            "flex": null,
            "flex_flow": "column",
            "grid_area": null,
            "grid_auto_columns": null,
            "grid_auto_flow": null,
            "grid_auto_rows": null,
            "grid_column": null,
            "grid_gap": null,
            "grid_row": null,
            "grid_template_areas": null,
            "grid_template_columns": null,
            "grid_template_rows": null,
            "height": null,
            "justify_content": null,
            "justify_items": null,
            "left": null,
            "margin": null,
            "max_height": null,
            "max_width": null,
            "min_height": null,
            "min_width": null,
            "object_fit": null,
            "object_position": null,
            "order": null,
            "overflow": null,
            "overflow_x": null,
            "overflow_y": null,
            "padding": null,
            "right": null,
            "top": null,
            "visibility": null,
            "width": "50%"
          }
        },
        "630b56176d71489a80905a7834bcbcb3": {
          "model_module": "@jupyter-widgets/base",
          "model_name": "LayoutModel",
          "model_module_version": "1.2.0",
          "state": {
            "_model_module": "@jupyter-widgets/base",
            "_model_module_version": "1.2.0",
            "_model_name": "LayoutModel",
            "_view_count": null,
            "_view_module": "@jupyter-widgets/base",
            "_view_module_version": "1.2.0",
            "_view_name": "LayoutView",
            "align_content": null,
            "align_items": null,
            "align_self": null,
            "border": null,
            "bottom": null,
            "display": null,
            "flex": null,
            "flex_flow": null,
            "grid_area": null,
            "grid_auto_columns": null,
            "grid_auto_flow": null,
            "grid_auto_rows": null,
            "grid_column": null,
            "grid_gap": null,
            "grid_row": null,
            "grid_template_areas": null,
            "grid_template_columns": null,
            "grid_template_rows": null,
            "height": null,
            "justify_content": null,
            "justify_items": null,
            "left": null,
            "margin": null,
            "max_height": null,
            "max_width": null,
            "min_height": null,
            "min_width": null,
            "object_fit": null,
            "object_position": null,
            "order": null,
            "overflow": null,
            "overflow_x": null,
            "overflow_y": null,
            "padding": null,
            "right": null,
            "top": null,
            "visibility": null,
            "width": null
          }
        },
        "200250998cb745268da7a64c88980afa": {
          "model_module": "@jupyter-widgets/controls",
          "model_name": "DescriptionStyleModel",
          "model_module_version": "1.5.0",
          "state": {
            "_model_module": "@jupyter-widgets/controls",
            "_model_module_version": "1.5.0",
            "_model_name": "DescriptionStyleModel",
            "_view_count": null,
            "_view_module": "@jupyter-widgets/base",
            "_view_module_version": "1.2.0",
            "_view_name": "StyleView",
            "description_width": ""
          }
        },
        "b7383db9f5994c7c8e6a42175e05c4c6": {
          "model_module": "@jupyter-widgets/base",
          "model_name": "LayoutModel",
          "model_module_version": "1.2.0",
          "state": {
            "_model_module": "@jupyter-widgets/base",
            "_model_module_version": "1.2.0",
            "_model_name": "LayoutModel",
            "_view_count": null,
            "_view_module": "@jupyter-widgets/base",
            "_view_module_version": "1.2.0",
            "_view_name": "LayoutView",
            "align_content": null,
            "align_items": null,
            "align_self": null,
            "border": null,
            "bottom": null,
            "display": null,
            "flex": null,
            "flex_flow": null,
            "grid_area": null,
            "grid_auto_columns": null,
            "grid_auto_flow": null,
            "grid_auto_rows": null,
            "grid_column": null,
            "grid_gap": null,
            "grid_row": null,
            "grid_template_areas": null,
            "grid_template_columns": null,
            "grid_template_rows": null,
            "height": null,
            "justify_content": null,
            "justify_items": null,
            "left": null,
            "margin": null,
            "max_height": null,
            "max_width": null,
            "min_height": null,
            "min_width": null,
            "object_fit": null,
            "object_position": null,
            "order": null,
            "overflow": null,
            "overflow_x": null,
            "overflow_y": null,
            "padding": null,
            "right": null,
            "top": null,
            "visibility": null,
            "width": null
          }
        },
        "4fc9d3241f464969bbcf32fa0f4add74": {
          "model_module": "@jupyter-widgets/controls",
          "model_name": "DescriptionStyleModel",
          "model_module_version": "1.5.0",
          "state": {
            "_model_module": "@jupyter-widgets/controls",
            "_model_module_version": "1.5.0",
            "_model_name": "DescriptionStyleModel",
            "_view_count": null,
            "_view_module": "@jupyter-widgets/base",
            "_view_module_version": "1.2.0",
            "_view_name": "StyleView",
            "description_width": ""
          }
        },
        "34e27e5263f540abb37a04cf1ffbebfc": {
          "model_module": "@jupyter-widgets/base",
          "model_name": "LayoutModel",
          "model_module_version": "1.2.0",
          "state": {
            "_model_module": "@jupyter-widgets/base",
            "_model_module_version": "1.2.0",
            "_model_name": "LayoutModel",
            "_view_count": null,
            "_view_module": "@jupyter-widgets/base",
            "_view_module_version": "1.2.0",
            "_view_name": "LayoutView",
            "align_content": null,
            "align_items": null,
            "align_self": null,
            "border": null,
            "bottom": null,
            "display": null,
            "flex": null,
            "flex_flow": null,
            "grid_area": null,
            "grid_auto_columns": null,
            "grid_auto_flow": null,
            "grid_auto_rows": null,
            "grid_column": null,
            "grid_gap": null,
            "grid_row": null,
            "grid_template_areas": null,
            "grid_template_columns": null,
            "grid_template_rows": null,
            "height": null,
            "justify_content": null,
            "justify_items": null,
            "left": null,
            "margin": null,
            "max_height": null,
            "max_width": null,
            "min_height": null,
            "min_width": null,
            "object_fit": null,
            "object_position": null,
            "order": null,
            "overflow": null,
            "overflow_x": null,
            "overflow_y": null,
            "padding": null,
            "right": null,
            "top": null,
            "visibility": null,
            "width": null
          }
        },
        "584d022aae304957b243822444498b38": {
          "model_module": "@jupyter-widgets/controls",
          "model_name": "DescriptionStyleModel",
          "model_module_version": "1.5.0",
          "state": {
            "_model_module": "@jupyter-widgets/controls",
            "_model_module_version": "1.5.0",
            "_model_name": "DescriptionStyleModel",
            "_view_count": null,
            "_view_module": "@jupyter-widgets/base",
            "_view_module_version": "1.2.0",
            "_view_name": "StyleView",
            "description_width": ""
          }
        },
        "4e42197dae0d41d3b1882240aa102ce2": {
          "model_module": "@jupyter-widgets/base",
          "model_name": "LayoutModel",
          "model_module_version": "1.2.0",
          "state": {
            "_model_module": "@jupyter-widgets/base",
            "_model_module_version": "1.2.0",
            "_model_name": "LayoutModel",
            "_view_count": null,
            "_view_module": "@jupyter-widgets/base",
            "_view_module_version": "1.2.0",
            "_view_name": "LayoutView",
            "align_content": null,
            "align_items": null,
            "align_self": null,
            "border": null,
            "bottom": null,
            "display": null,
            "flex": null,
            "flex_flow": null,
            "grid_area": null,
            "grid_auto_columns": null,
            "grid_auto_flow": null,
            "grid_auto_rows": null,
            "grid_column": null,
            "grid_gap": null,
            "grid_row": null,
            "grid_template_areas": null,
            "grid_template_columns": null,
            "grid_template_rows": null,
            "height": null,
            "justify_content": null,
            "justify_items": null,
            "left": null,
            "margin": null,
            "max_height": null,
            "max_width": null,
            "min_height": null,
            "min_width": null,
            "object_fit": null,
            "object_position": null,
            "order": null,
            "overflow": null,
            "overflow_x": null,
            "overflow_y": null,
            "padding": null,
            "right": null,
            "top": null,
            "visibility": null,
            "width": null
          }
        },
        "9d7f36c2a3be41279eaac58c672c1452": {
          "model_module": "@jupyter-widgets/controls",
          "model_name": "ButtonStyleModel",
          "model_module_version": "1.5.0",
          "state": {
            "_model_module": "@jupyter-widgets/controls",
            "_model_module_version": "1.5.0",
            "_model_name": "ButtonStyleModel",
            "_view_count": null,
            "_view_module": "@jupyter-widgets/base",
            "_view_module_version": "1.2.0",
            "_view_name": "StyleView",
            "button_color": null,
            "font_weight": ""
          }
        },
        "475c7f977f9144bf9dfc895843f96cf2": {
          "model_module": "@jupyter-widgets/base",
          "model_name": "LayoutModel",
          "model_module_version": "1.2.0",
          "state": {
            "_model_module": "@jupyter-widgets/base",
            "_model_module_version": "1.2.0",
            "_model_name": "LayoutModel",
            "_view_count": null,
            "_view_module": "@jupyter-widgets/base",
            "_view_module_version": "1.2.0",
            "_view_name": "LayoutView",
            "align_content": null,
            "align_items": null,
            "align_self": null,
            "border": null,
            "bottom": null,
            "display": null,
            "flex": null,
            "flex_flow": null,
            "grid_area": null,
            "grid_auto_columns": null,
            "grid_auto_flow": null,
            "grid_auto_rows": null,
            "grid_column": null,
            "grid_gap": null,
            "grid_row": null,
            "grid_template_areas": null,
            "grid_template_columns": null,
            "grid_template_rows": null,
            "height": null,
            "justify_content": null,
            "justify_items": null,
            "left": null,
            "margin": null,
            "max_height": null,
            "max_width": null,
            "min_height": null,
            "min_width": null,
            "object_fit": null,
            "object_position": null,
            "order": null,
            "overflow": null,
            "overflow_x": null,
            "overflow_y": null,
            "padding": null,
            "right": null,
            "top": null,
            "visibility": null,
            "width": null
          }
        },
        "eb9f9f98d8554b82a167d329312b294b": {
          "model_module": "@jupyter-widgets/controls",
          "model_name": "DescriptionStyleModel",
          "model_module_version": "1.5.0",
          "state": {
            "_model_module": "@jupyter-widgets/controls",
            "_model_module_version": "1.5.0",
            "_model_name": "DescriptionStyleModel",
            "_view_count": null,
            "_view_module": "@jupyter-widgets/base",
            "_view_module_version": "1.2.0",
            "_view_name": "StyleView",
            "description_width": ""
          }
        },
        "4365697ffd99484ba72061c21cf0cf54": {
          "model_module": "@jupyter-widgets/controls",
          "model_name": "LabelModel",
          "model_module_version": "1.5.0",
          "state": {
            "_dom_classes": [],
            "_model_module": "@jupyter-widgets/controls",
            "_model_module_version": "1.5.0",
            "_model_name": "LabelModel",
            "_view_count": null,
            "_view_module": "@jupyter-widgets/controls",
            "_view_module_version": "1.5.0",
            "_view_name": "LabelView",
            "description": "",
            "description_tooltip": null,
            "layout": "IPY_MODEL_2664d5eb34b84c599bb5a68e43009d52",
            "placeholder": "​",
            "style": "IPY_MODEL_e97a25361d5a42de916ff30608d956e6",
            "value": "Connecting..."
          }
        },
        "2664d5eb34b84c599bb5a68e43009d52": {
          "model_module": "@jupyter-widgets/base",
          "model_name": "LayoutModel",
          "model_module_version": "1.2.0",
          "state": {
            "_model_module": "@jupyter-widgets/base",
            "_model_module_version": "1.2.0",
            "_model_name": "LayoutModel",
            "_view_count": null,
            "_view_module": "@jupyter-widgets/base",
            "_view_module_version": "1.2.0",
            "_view_name": "LayoutView",
            "align_content": null,
            "align_items": null,
            "align_self": null,
            "border": null,
            "bottom": null,
            "display": null,
            "flex": null,
            "flex_flow": null,
            "grid_area": null,
            "grid_auto_columns": null,
            "grid_auto_flow": null,
            "grid_auto_rows": null,
            "grid_column": null,
            "grid_gap": null,
            "grid_row": null,
            "grid_template_areas": null,
            "grid_template_columns": null,
            "grid_template_rows": null,
            "height": null,
            "justify_content": null,
            "justify_items": null,
            "left": null,
            "margin": null,
            "max_height": null,
            "max_width": null,
            "min_height": null,
            "min_width": null,
            "object_fit": null,
            "object_position": null,
            "order": null,
            "overflow": null,
            "overflow_x": null,
            "overflow_y": null,
            "padding": null,
            "right": null,
            "top": null,
            "visibility": null,
            "width": null
          }
        },
        "e97a25361d5a42de916ff30608d956e6": {
          "model_module": "@jupyter-widgets/controls",
          "model_name": "DescriptionStyleModel",
          "model_module_version": "1.5.0",
          "state": {
            "_model_module": "@jupyter-widgets/controls",
            "_model_module_version": "1.5.0",
            "_model_name": "DescriptionStyleModel",
            "_view_count": null,
            "_view_module": "@jupyter-widgets/base",
            "_view_module_version": "1.2.0",
            "_view_name": "StyleView",
            "description_width": ""
          }
        }
      }
    }
  },
  "nbformat": 4,
  "nbformat_minor": 0
}